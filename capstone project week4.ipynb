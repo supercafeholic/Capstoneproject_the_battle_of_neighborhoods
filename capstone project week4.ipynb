{
 "cells": [
  {
   "cell_type": "markdown",
   "metadata": {},
   "source": [
    "## A description of the problem and a discussion of the background."
   ]
  },
  {
   "cell_type": "markdown",
   "metadata": {},
   "source": [
    "・If you think about tourism in Canada when the corona virus pandemic is over, Toronto must be the most attractive city. According to some tourist websites, Toronto is the most popular city in Canada and around 4,520,000 people visited there every year before the corona virus pandemic. In fact, 6 new luxury hotels opened in Toronto in 2020. <br>\n",
    "・The importance of  hotel is mainly for visiters and business person who come from outside of Toronto for staying there or for a business meeting.Hotels are able to provide a good staying experiences to them. <br>\n",
    "・Location of the hotel is one of the most important elements that will determine whether the hotel will be success or not.<br>\n",
    "・So the business question is, 'In Toronto, if a property developer is going to open a new hotel, where would you recommend that they open it?'<br>"
   ]
  },
  {
   "cell_type": "markdown",
   "metadata": {},
   "source": [
    "## A description of the data and how it will be used to solve the problem."
   ]
  },
  {
   "cell_type": "markdown",
   "metadata": {},
   "source": [
    "Data:<br>\n",
    "・List of neighborhoods in Toronto<br>\n",
    "・Latitude and longitude coodinates of those neighborhoods<br>\n",
    "・Venue data, particularly data related to hotels<br>\n",
    "\n",
    "Source:<br>\n",
    "・Python Geocoder package for latitude and longitude coorinates for neighborhoods.<br>\n",
    "・Foursquare API(https://foursquare.com/) to get venue data for those neighborhoods.<br>\n",
    "・Use this CSV file(http://cocl.us/Geospatial_data) to get Toronto postal code.<br>"
   ]
  }
 ],
 "metadata": {
  "kernelspec": {
   "display_name": "Python 3",
   "language": "python",
   "name": "python3"
  },
  "language_info": {
   "codemirror_mode": {
    "name": "ipython",
    "version": 3
   },
   "file_extension": ".py",
   "mimetype": "text/x-python",
   "name": "python",
   "nbconvert_exporter": "python",
   "pygments_lexer": "ipython3",
   "version": "3.8.5"
  }
 },
 "nbformat": 4,
 "nbformat_minor": 4
}
